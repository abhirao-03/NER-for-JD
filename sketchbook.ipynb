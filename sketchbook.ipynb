{
 "cells": [
  {
   "cell_type": "code",
   "execution_count": 79,
   "metadata": {},
   "outputs": [],
   "source": [
    "import numpy as np\n",
    "import pandas as pd\n",
    "from nltk.tokenize import sent_tokenize, word_tokenize\n",
    "import string\n",
    "from flashtext import KeywordProcessor"
   ]
  },
  {
   "cell_type": "markdown",
   "metadata": {},
   "source": [
    "## Data Cleaning"
   ]
  },
  {
   "cell_type": "code",
   "execution_count": 97,
   "metadata": {},
   "outputs": [],
   "source": [
    "dirty_data = pd.read_csv('/Users/abhi/job_descriptions.csv')"
   ]
  },
  {
   "cell_type": "code",
   "execution_count": 98,
   "metadata": {},
   "outputs": [],
   "source": [
    "punkt = string.punctuation\n",
    "punkt = punkt[0:2] + punkt[3:13] + punkt[14:-1]\n",
    "\n",
    "for i in range(len(dirty_data)):\n",
    "    dirty_data.loc[i, 'job'] = dirty_data.loc[i, 'job'].lower()\n",
    "\n",
    "    punkt_str = dirty_data.loc[i, 'job']\n",
    "    test_str = punkt_str.translate(str.maketrans('', '', punkt))\n",
    "    dirty_data.loc[i, 'job'] = test_str"
   ]
  },
  {
   "cell_type": "code",
   "execution_count": 110,
   "metadata": {},
   "outputs": [],
   "source": [
    "clean_data = dirty_data.copy()\n",
    "clean_data = clean_data.drop(columns=['url'])\n",
    "nuke_data = clean_data.copy()\n",
    "\n",
    "for i in range(len(clean_data)):\n",
    "    clean_data.loc[i, 'job'] = word_tokenize(dirty_data['job'][i])\n",
    "\n",
    "clean_data = clean_data.explode('job').reset_index(drop=False)\n",
    "clean_data = clean_data.rename(columns={'index': 'job_id'})"
   ]
  },
  {
   "cell_type": "code",
   "execution_count": 114,
   "metadata": {},
   "outputs": [
    {
     "data": {
      "text/html": [
       "<div>\n",
       "<style scoped>\n",
       "    .dataframe tbody tr th:only-of-type {\n",
       "        vertical-align: middle;\n",
       "    }\n",
       "\n",
       "    .dataframe tbody tr th {\n",
       "        vertical-align: top;\n",
       "    }\n",
       "\n",
       "    .dataframe thead th {\n",
       "        text-align: right;\n",
       "    }\n",
       "</style>\n",
       "<table border=\"1\" class=\"dataframe\">\n",
       "  <thead>\n",
       "    <tr style=\"text-align: right;\">\n",
       "      <th></th>\n",
       "      <th>job_id</th>\n",
       "      <th>job</th>\n",
       "      <th>skills</th>\n",
       "    </tr>\n",
       "  </thead>\n",
       "  <tbody>\n",
       "    <tr>\n",
       "      <th>0</th>\n",
       "      <td>0</td>\n",
       "      <td>summarythe</td>\n",
       "      <td>['C#', '.Net', 'database performance', 'C#', '...</td>\n",
       "    </tr>\n",
       "    <tr>\n",
       "      <th>1</th>\n",
       "      <td>0</td>\n",
       "      <td>database</td>\n",
       "      <td>['C#', '.Net', 'database performance', 'C#', '...</td>\n",
       "    </tr>\n",
       "    <tr>\n",
       "      <th>2</th>\n",
       "      <td>0</td>\n",
       "      <td>developer</td>\n",
       "      <td>['C#', '.Net', 'database performance', 'C#', '...</td>\n",
       "    </tr>\n",
       "    <tr>\n",
       "      <th>3</th>\n",
       "      <td>0</td>\n",
       "      <td>is</td>\n",
       "      <td>['C#', '.Net', 'database performance', 'C#', '...</td>\n",
       "    </tr>\n",
       "    <tr>\n",
       "      <th>4</th>\n",
       "      <td>0</td>\n",
       "      <td>part</td>\n",
       "      <td>['C#', '.Net', 'database performance', 'C#', '...</td>\n",
       "    </tr>\n",
       "    <tr>\n",
       "      <th>...</th>\n",
       "      <td>...</td>\n",
       "      <td>...</td>\n",
       "      <td>...</td>\n",
       "    </tr>\n",
       "    <tr>\n",
       "      <th>743</th>\n",
       "      <td>0</td>\n",
       "      <td>a</td>\n",
       "      <td>['C#', '.Net', 'database performance', 'C#', '...</td>\n",
       "    </tr>\n",
       "    <tr>\n",
       "      <th>744</th>\n",
       "      <td>0</td>\n",
       "      <td>project</td>\n",
       "      <td>['C#', '.Net', 'database performance', 'C#', '...</td>\n",
       "    </tr>\n",
       "    <tr>\n",
       "      <th>745</th>\n",
       "      <td>0</td>\n",
       "      <td>is</td>\n",
       "      <td>['C#', '.Net', 'database performance', 'C#', '...</td>\n",
       "    </tr>\n",
       "    <tr>\n",
       "      <th>746</th>\n",
       "      <td>0</td>\n",
       "      <td>complete</td>\n",
       "      <td>['C#', '.Net', 'database performance', 'C#', '...</td>\n",
       "    </tr>\n",
       "    <tr>\n",
       "      <th>747</th>\n",
       "      <td>0</td>\n",
       "      <td>.</td>\n",
       "      <td>['C#', '.Net', 'database performance', 'C#', '...</td>\n",
       "    </tr>\n",
       "  </tbody>\n",
       "</table>\n",
       "<p>748 rows × 3 columns</p>\n",
       "</div>"
      ],
      "text/plain": [
       "     job_id         job                                             skills\n",
       "0         0  summarythe  ['C#', '.Net', 'database performance', 'C#', '...\n",
       "1         0    database  ['C#', '.Net', 'database performance', 'C#', '...\n",
       "2         0   developer  ['C#', '.Net', 'database performance', 'C#', '...\n",
       "3         0          is  ['C#', '.Net', 'database performance', 'C#', '...\n",
       "4         0        part  ['C#', '.Net', 'database performance', 'C#', '...\n",
       "..      ...         ...                                                ...\n",
       "743       0           a  ['C#', '.Net', 'database performance', 'C#', '...\n",
       "744       0     project  ['C#', '.Net', 'database performance', 'C#', '...\n",
       "745       0          is  ['C#', '.Net', 'database performance', 'C#', '...\n",
       "746       0    complete  ['C#', '.Net', 'database performance', 'C#', '...\n",
       "747       0           .  ['C#', '.Net', 'database performance', 'C#', '...\n",
       "\n",
       "[748 rows x 3 columns]"
      ]
     },
     "execution_count": 114,
     "metadata": {},
     "output_type": "execute_result"
    }
   ],
   "source": [
    "clean_data.loc[clean_data['job_id'] == 0]"
   ]
  },
  {
   "cell_type": "code",
   "execution_count": null,
   "metadata": {},
   "outputs": [],
   "source": []
  }
 ],
 "metadata": {
  "kernelspec": {
   "display_name": "base",
   "language": "python",
   "name": "python3"
  },
  "language_info": {
   "codemirror_mode": {
    "name": "ipython",
    "version": 3
   },
   "file_extension": ".py",
   "mimetype": "text/x-python",
   "name": "python",
   "nbconvert_exporter": "python",
   "pygments_lexer": "ipython3",
   "version": "3.12.2"
  }
 },
 "nbformat": 4,
 "nbformat_minor": 2
}
