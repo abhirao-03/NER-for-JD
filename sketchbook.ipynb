{
 "cells": [
  {
   "cell_type": "code",
   "execution_count": 98,
   "metadata": {},
   "outputs": [],
   "source": [
    "import numpy as np\n",
    "import pandas as pd\n",
    "import nltk\n",
    "import string"
   ]
  },
  {
   "cell_type": "markdown",
   "metadata": {},
   "source": [
    "## Data Cleaning"
   ]
  },
  {
   "cell_type": "code",
   "execution_count": 99,
   "metadata": {},
   "outputs": [],
   "source": [
    "dirty_data = pd.read_csv('job_descriptions.csv')"
   ]
  },
  {
   "cell_type": "code",
   "execution_count": 100,
   "metadata": {},
   "outputs": [],
   "source": [
    "punkt = string.punctuation\n",
    "punkt = punkt[0:2] + punkt[3:13] + punkt[14:-1]\n",
    "\n",
    "for i in range(len(dirty_data)):\n",
    "    dirty_data.loc[i, 'job'] = dirty_data.loc[i, 'job'].lower()\n",
    "\n",
    "    punkt_str = dirty_data.loc[i, 'job']\n",
    "    test_str = punkt_str.translate(str.maketrans('', '', punkt))\n",
    "    dirty_data.loc[i, 'job'] = test_str\n"
   ]
  },
  {
   "cell_type": "code",
   "execution_count": 101,
   "metadata": {},
   "outputs": [],
   "source": [
    "clean_data = dirty_data.copy()\n",
    "clean_data = clean_data.drop(columns=['url'])\n",
    "\n",
    "for i in range(len(clean_data)):\n",
    "    clean_data.loc[i, 'job'] = nltk.sent_tokenize(dirty_data['job'][i])\n",
    "\n",
    "clean_data = clean_data.explode('job').reset_index(drop=False)"
   ]
  },
  {
   "cell_type": "code",
   "execution_count": 102,
   "metadata": {},
   "outputs": [
    {
     "data": {
      "text/html": [
       "<div>\n",
       "<style scoped>\n",
       "    .dataframe tbody tr th:only-of-type {\n",
       "        vertical-align: middle;\n",
       "    }\n",
       "\n",
       "    .dataframe tbody tr th {\n",
       "        vertical-align: top;\n",
       "    }\n",
       "\n",
       "    .dataframe thead th {\n",
       "        text-align: right;\n",
       "    }\n",
       "</style>\n",
       "<table border=\"1\" class=\"dataframe\">\n",
       "  <thead>\n",
       "    <tr style=\"text-align: right;\">\n",
       "      <th></th>\n",
       "      <th>index</th>\n",
       "      <th>job</th>\n",
       "      <th>skills</th>\n",
       "    </tr>\n",
       "  </thead>\n",
       "  <tbody>\n",
       "    <tr>\n",
       "      <th>0</th>\n",
       "      <td>0</td>\n",
       "      <td>summarythe database developer is part of the c...</td>\n",
       "      <td>['C#', '.Net', 'database performance', 'C#', '...</td>\n",
       "    </tr>\n",
       "    <tr>\n",
       "      <th>1</th>\n",
       "      <td>0</td>\n",
       "      <td>strong development skills in c# and .net inclu...</td>\n",
       "      <td>['C#', '.Net', 'database performance', 'C#', '...</td>\n",
       "    </tr>\n",
       "    <tr>\n",
       "      <th>2</th>\n",
       "      <td>0</td>\n",
       "      <td>the ideal candidate should have a deep underst...</td>\n",
       "      <td>['C#', '.Net', 'database performance', 'C#', '...</td>\n",
       "    </tr>\n",
       "    <tr>\n",
       "      <th>3</th>\n",
       "      <td>0</td>\n",
       "      <td>effective at communicating with users to defin...</td>\n",
       "      <td>['C#', '.Net', 'database performance', 'C#', '...</td>\n",
       "    </tr>\n",
       "    <tr>\n",
       "      <th>4</th>\n",
       "      <td>0</td>\n",
       "      <td>or b.s from a fouryear college or university35...</td>\n",
       "      <td>['C#', '.Net', 'database performance', 'C#', '...</td>\n",
       "    </tr>\n",
       "    <tr>\n",
       "      <th>...</th>\n",
       "      <td>...</td>\n",
       "      <td>...</td>\n",
       "      <td>...</td>\n",
       "    </tr>\n",
       "    <tr>\n",
       "      <th>20717</th>\n",
       "      <td>1840</td>\n",
       "      <td>no agencies.salary range 130000 to 170000 per ...</td>\n",
       "      <td>['HTML', 'Python', 'Wordpress']</td>\n",
       "    </tr>\n",
       "    <tr>\n",
       "      <th>20718</th>\n",
       "      <td>1841</td>\n",
       "      <td>become part of one of a large highperforming n...</td>\n",
       "      <td>['Cloud Infrastructure', 'CI/CD', 'Python']</td>\n",
       "    </tr>\n",
       "    <tr>\n",
       "      <th>20719</th>\n",
       "      <td>1841</td>\n",
       "      <td>what will you doautomate and configure the clo...</td>\n",
       "      <td>['Cloud Infrastructure', 'CI/CD', 'Python']</td>\n",
       "    </tr>\n",
       "    <tr>\n",
       "      <th>20720</th>\n",
       "      <td>1841</td>\n",
       "      <td>youll do this bycollaborating with teams accro...</td>\n",
       "      <td>['Cloud Infrastructure', 'CI/CD', 'Python']</td>\n",
       "    </tr>\n",
       "    <tr>\n",
       "      <th>20721</th>\n",
       "      <td>1841</td>\n",
       "      <td>the company is looking to fill this role asap.</td>\n",
       "      <td>['Cloud Infrastructure', 'CI/CD', 'Python']</td>\n",
       "    </tr>\n",
       "  </tbody>\n",
       "</table>\n",
       "<p>20722 rows × 3 columns</p>\n",
       "</div>"
      ],
      "text/plain": [
       "       index                                                job  \\\n",
       "0          0  summarythe database developer is part of the c...   \n",
       "1          0  strong development skills in c# and .net inclu...   \n",
       "2          0  the ideal candidate should have a deep underst...   \n",
       "3          0  effective at communicating with users to defin...   \n",
       "4          0  or b.s from a fouryear college or university35...   \n",
       "...      ...                                                ...   \n",
       "20717   1840  no agencies.salary range 130000 to 170000 per ...   \n",
       "20718   1841  become part of one of a large highperforming n...   \n",
       "20719   1841  what will you doautomate and configure the clo...   \n",
       "20720   1841  youll do this bycollaborating with teams accro...   \n",
       "20721   1841     the company is looking to fill this role asap.   \n",
       "\n",
       "                                                  skills  \n",
       "0      ['C#', '.Net', 'database performance', 'C#', '...  \n",
       "1      ['C#', '.Net', 'database performance', 'C#', '...  \n",
       "2      ['C#', '.Net', 'database performance', 'C#', '...  \n",
       "3      ['C#', '.Net', 'database performance', 'C#', '...  \n",
       "4      ['C#', '.Net', 'database performance', 'C#', '...  \n",
       "...                                                  ...  \n",
       "20717                    ['HTML', 'Python', 'Wordpress']  \n",
       "20718        ['Cloud Infrastructure', 'CI/CD', 'Python']  \n",
       "20719        ['Cloud Infrastructure', 'CI/CD', 'Python']  \n",
       "20720        ['Cloud Infrastructure', 'CI/CD', 'Python']  \n",
       "20721        ['Cloud Infrastructure', 'CI/CD', 'Python']  \n",
       "\n",
       "[20722 rows x 3 columns]"
      ]
     },
     "execution_count": 102,
     "metadata": {},
     "output_type": "execute_result"
    }
   ],
   "source": [
    "clean_data"
   ]
  },
  {
   "cell_type": "code",
   "execution_count": null,
   "metadata": {},
   "outputs": [],
   "source": []
  }
 ],
 "metadata": {
  "kernelspec": {
   "display_name": "base",
   "language": "python",
   "name": "python3"
  },
  "language_info": {
   "codemirror_mode": {
    "name": "ipython",
    "version": 3
   },
   "file_extension": ".py",
   "mimetype": "text/x-python",
   "name": "python",
   "nbconvert_exporter": "python",
   "pygments_lexer": "ipython3",
   "version": "3.12.2"
  }
 },
 "nbformat": 4,
 "nbformat_minor": 2
}
